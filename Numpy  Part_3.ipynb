{
 "cells": [
  {
   "cell_type": "markdown",
   "id": "2b33b1be",
   "metadata": {},
   "source": [
    "# Arithmetic operation"
   ]
  },
  {
   "cell_type": "markdown",
   "id": "83736c7a",
   "metadata": {},
   "source": [
    "# Addition "
   ]
  },
  {
   "cell_type": "code",
   "execution_count": 4,
   "id": "78d8f627",
   "metadata": {},
   "outputs": [
    {
     "name": "stdout",
     "output_type": "stream",
     "text": [
      "[6 7 8 9]\n"
     ]
    }
   ],
   "source": [
    "import numpy as np\n",
    "\n",
    "var = np.array([1,2,3,4])\n",
    "\n",
    "var_add = var + 5\n",
    "\n",
    "print (var_add)"
   ]
  },
  {
   "cell_type": "code",
   "execution_count": 1,
   "id": "64969185",
   "metadata": {},
   "outputs": [
    {
     "name": "stdout",
     "output_type": "stream",
     "text": [
      "[2 4 6 8]\n"
     ]
    }
   ],
   "source": [
    "import numpy as np\n",
    "\n",
    "var1 = np.array([1,2,3,4])\n",
    "var2 = np.array([1,2,3,4])\n",
    "\n",
    "var_add = var1 + var2\n",
    "\n",
    "print (var_add)"
   ]
  },
  {
   "cell_type": "markdown",
   "id": "cfcefb5f",
   "metadata": {},
   "source": [
    "# Using function"
   ]
  },
  {
   "cell_type": "code",
   "execution_count": 20,
   "id": "e280dab5",
   "metadata": {},
   "outputs": [
    {
     "name": "stdout",
     "output_type": "stream",
     "text": [
      "[6 7 8 9]\n"
     ]
    }
   ],
   "source": [
    "import numpy as np\n",
    "\n",
    "var = np.array([1,2,3,4])\n",
    "\n",
    "var_add = np.add(var,5)\n",
    "\n",
    "print (var_add)"
   ]
  },
  {
   "cell_type": "code",
   "execution_count": 21,
   "id": "86709398",
   "metadata": {},
   "outputs": [
    {
     "name": "stdout",
     "output_type": "stream",
     "text": [
      "[2 4 6 8]\n"
     ]
    }
   ],
   "source": [
    "import numpy as np\n",
    "\n",
    "var1 = np.array([1,2,3,4])\n",
    "var2 = np.array([1,2,3,4])\n",
    "\n",
    "var_add = np.add(var1,var2)\n",
    "\n",
    "print (var_add)"
   ]
  },
  {
   "cell_type": "markdown",
   "id": "ecd86293",
   "metadata": {},
   "source": [
    "# Subtraction "
   ]
  },
  {
   "cell_type": "code",
   "execution_count": 3,
   "id": "315fbf1e",
   "metadata": {},
   "outputs": [
    {
     "name": "stdout",
     "output_type": "stream",
     "text": [
      "[-4 -3 -2 -1]\n"
     ]
    }
   ],
   "source": [
    "import numpy as np\n",
    "\n",
    "var = np.array([1,2,3,4])\n",
    "\n",
    "var_sub = var - 5\n",
    "\n",
    "print (var_sub)"
   ]
  },
  {
   "cell_type": "code",
   "execution_count": 5,
   "id": "9cfb5706",
   "metadata": {},
   "outputs": [
    {
     "name": "stdout",
     "output_type": "stream",
     "text": [
      "[0 0 0 0]\n"
     ]
    }
   ],
   "source": [
    "import numpy as np\n",
    "\n",
    "var1 = np.array([1,2,3,4])\n",
    "var2 = np.array([1,2,3,4])\n",
    "\n",
    "var_sub = var1 - var2\n",
    "\n",
    "print (var_sub)"
   ]
  },
  {
   "cell_type": "markdown",
   "id": "466c8e12",
   "metadata": {},
   "source": [
    "# Using function"
   ]
  },
  {
   "cell_type": "code",
   "execution_count": 22,
   "id": "5bdc0fa0",
   "metadata": {},
   "outputs": [
    {
     "name": "stdout",
     "output_type": "stream",
     "text": [
      "[-4 -3 -2 -1]\n"
     ]
    }
   ],
   "source": [
    "import numpy as np\n",
    "\n",
    "var = np.array([1,2,3,4])\n",
    "\n",
    "var_sub = np.subtract(var,5) \n",
    "\n",
    "print (var_sub)"
   ]
  },
  {
   "cell_type": "code",
   "execution_count": 23,
   "id": "d1a1496f",
   "metadata": {},
   "outputs": [
    {
     "name": "stdout",
     "output_type": "stream",
     "text": [
      "[0 0 0 0]\n"
     ]
    }
   ],
   "source": [
    "import numpy as np\n",
    "\n",
    "var1 = np.array([1,2,3,4])\n",
    "var2 = np.array([1,2,3,4])\n",
    "\n",
    "var_sub = np.subtract(var1,var2) \n",
    "\n",
    "print (var_sub)"
   ]
  },
  {
   "cell_type": "markdown",
   "id": "c9b29a21",
   "metadata": {},
   "source": [
    "# Multiplication "
   ]
  },
  {
   "cell_type": "code",
   "execution_count": 6,
   "id": "b9dc4430",
   "metadata": {},
   "outputs": [
    {
     "name": "stdout",
     "output_type": "stream",
     "text": [
      "[ 5 10 15 20]\n"
     ]
    }
   ],
   "source": [
    "import numpy as np\n",
    "\n",
    "var = np.array([1,2,3,4])\n",
    "\n",
    "var_mul = var * 5\n",
    "\n",
    "print (var_mul)"
   ]
  },
  {
   "cell_type": "code",
   "execution_count": 7,
   "id": "29af245f",
   "metadata": {},
   "outputs": [
    {
     "name": "stdout",
     "output_type": "stream",
     "text": [
      "[ 1  4  9 16]\n"
     ]
    }
   ],
   "source": [
    "import numpy as np\n",
    "\n",
    "var1 = np.array([1,2,3,4])\n",
    "var2 = np.array([1,2,3,4])\n",
    "\n",
    "var_mul = var1 * var2\n",
    "\n",
    "print (var_mul)"
   ]
  },
  {
   "cell_type": "markdown",
   "id": "ddaa1d02",
   "metadata": {},
   "source": [
    "# Using function"
   ]
  },
  {
   "cell_type": "code",
   "execution_count": 24,
   "id": "69992170",
   "metadata": {},
   "outputs": [
    {
     "name": "stdout",
     "output_type": "stream",
     "text": [
      "[ 5 10 15 20]\n"
     ]
    }
   ],
   "source": [
    "import numpy as np\n",
    "\n",
    "var = np.array([1,2,3,4])\n",
    "\n",
    "var_mul = np.multiply(var,5)\n",
    "\n",
    "print (var_mul)"
   ]
  },
  {
   "cell_type": "code",
   "execution_count": 25,
   "id": "74e786e0",
   "metadata": {},
   "outputs": [
    {
     "name": "stdout",
     "output_type": "stream",
     "text": [
      "[ 1  4  9 16]\n"
     ]
    }
   ],
   "source": [
    "import numpy as np\n",
    "\n",
    "var1 = np.array([1,2,3,4])\n",
    "var2 = np.array([1,2,3,4])\n",
    "\n",
    "var_mul = np.multiply(var1,var2)\n",
    "\n",
    "print (var_mul)"
   ]
  },
  {
   "cell_type": "markdown",
   "id": "c14a767f",
   "metadata": {},
   "source": [
    "# Division "
   ]
  },
  {
   "cell_type": "code",
   "execution_count": 8,
   "id": "b017d411",
   "metadata": {},
   "outputs": [
    {
     "name": "stdout",
     "output_type": "stream",
     "text": [
      "[0.2 0.4 0.6 0.8]\n"
     ]
    }
   ],
   "source": [
    "import numpy as np\n",
    "\n",
    "var = np.array([1,2,3,4])\n",
    "\n",
    "var_div = var / 5\n",
    "\n",
    "print (var_div)"
   ]
  },
  {
   "cell_type": "code",
   "execution_count": 14,
   "id": "74fd0bdc",
   "metadata": {},
   "outputs": [
    {
     "name": "stdout",
     "output_type": "stream",
     "text": [
      "[10.         12.         12.33333333 11.        ]\n"
     ]
    }
   ],
   "source": [
    "import numpy as np\n",
    "\n",
    "var1 = np.array([10,24,37,44])\n",
    "var2 = np.array([1,2,3,4])\n",
    "\n",
    "var_div = (var1 / var2)\n",
    "\n",
    "print (var_div)"
   ]
  },
  {
   "cell_type": "markdown",
   "id": "a0287e65",
   "metadata": {},
   "source": [
    "# Using function"
   ]
  },
  {
   "cell_type": "code",
   "execution_count": 26,
   "id": "154dc2fa",
   "metadata": {},
   "outputs": [
    {
     "name": "stdout",
     "output_type": "stream",
     "text": [
      "[0.2 0.4 0.6 0.8]\n"
     ]
    }
   ],
   "source": [
    "import numpy as np\n",
    "\n",
    "var = np.array([1,2,3,4])\n",
    "\n",
    "var_div = np.divide(var,5) \n",
    "\n",
    "print (var_div)"
   ]
  },
  {
   "cell_type": "code",
   "execution_count": 27,
   "id": "1e788eae",
   "metadata": {},
   "outputs": [
    {
     "name": "stdout",
     "output_type": "stream",
     "text": [
      "[10.         12.         12.33333333 11.        ]\n"
     ]
    }
   ],
   "source": [
    "import numpy as np\n",
    "\n",
    "var1 = np.array([10,24,37,44])\n",
    "var2 = np.array([1,2,3,4])\n",
    "\n",
    "var_div = np.divide(var1,var2)\n",
    "\n",
    "print (var_div)"
   ]
  },
  {
   "cell_type": "markdown",
   "id": "85f610f5",
   "metadata": {},
   "source": [
    "# Modulus"
   ]
  },
  {
   "cell_type": "code",
   "execution_count": 19,
   "id": "f8d28e16",
   "metadata": {},
   "outputs": [
    {
     "name": "stdout",
     "output_type": "stream",
     "text": [
      "[2 2 0 1]\n"
     ]
    }
   ],
   "source": [
    "import numpy as np\n",
    "\n",
    "var = np.array([17,2,3,4])\n",
    "\n",
    "var_mod = var % 3\n",
    "\n",
    "print (var_mod)"
   ]
  },
  {
   "cell_type": "code",
   "execution_count": 17,
   "id": "d86d1288",
   "metadata": {},
   "outputs": [
    {
     "name": "stdout",
     "output_type": "stream",
     "text": [
      "[1.         0.5        0.33333333 0.2       ]\n"
     ]
    }
   ],
   "source": [
    "import numpy as np\n",
    "\n",
    "var = [1, 2., 3, 5]\n",
    "\n",
    "var_rec = np.reciprocal(var)\n",
    "\n",
    "print (var_rec)"
   ]
  },
  {
   "cell_type": "code",
   "execution_count": 22,
   "id": "04432e9d",
   "metadata": {},
   "outputs": [
    {
     "name": "stdout",
     "output_type": "stream",
     "text": [
      "[1 0 0 0]\n"
     ]
    }
   ],
   "source": [
    "import numpy as np\n",
    "\n",
    "var = [1, 2, 3, 5]\n",
    "\n",
    "var_rec = np.reciprocal(var)\n",
    "\n",
    "print (var_rec)"
   ]
  },
  {
   "cell_type": "code",
   "execution_count": 25,
   "id": "dda2a417",
   "metadata": {},
   "outputs": [
    {
     "name": "stdout",
     "output_type": "stream",
     "text": [
      "[[10 24 37 44]\n",
      " [ 4  5  6  7]]\n",
      "\n",
      "[[1 2 3 4]\n",
      " [7 8 5 9]]\n",
      "\n",
      "[[11 26 40 48]\n",
      " [11 13 11 16]]\n"
     ]
    }
   ],
   "source": [
    "import numpy as np\n",
    "\n",
    "var1 = np.array([[10,24,37,44],[4,5,6,7]])\n",
    "var2 = np.array([[1,2,3,4],[7,8,5,9]])\n",
    "\n",
    "print(var1)\n",
    "print()\n",
    "print(var2)\n",
    "print()\n",
    "\n",
    "var_add = np.add(var1,var2)\n",
    "\n",
    "print (var_add)"
   ]
  },
  {
   "cell_type": "code",
   "execution_count": 26,
   "id": "97b4725e",
   "metadata": {},
   "outputs": [
    {
     "name": "stdout",
     "output_type": "stream",
     "text": [
      "[[10 24 37 44]\n",
      " [ 4  5  6  7]]\n",
      "\n",
      "[[1 2 3 4]\n",
      " [7 8 5 9]]\n",
      "\n",
      "[[ 10  48 111 176]\n",
      " [ 28  40  30  63]]\n"
     ]
    }
   ],
   "source": [
    "import numpy as np\n",
    "\n",
    "var1 = np.array([[10,24,37,44],[4,5,6,7]])\n",
    "var2 = np.array([[1,2,3,4],[7,8,5,9]])\n",
    "\n",
    "print(var1)\n",
    "print()\n",
    "print(var2)\n",
    "print()\n",
    "\n",
    "var_mul = np.multiply(var1,var2)\n",
    "\n",
    "print (var_mul)"
   ]
  },
  {
   "cell_type": "markdown",
   "id": "abfb3d2f",
   "metadata": {},
   "source": [
    "# Arithmetic functions"
   ]
  },
  {
   "cell_type": "code",
   "execution_count": 31,
   "id": "b79c8e90",
   "metadata": {},
   "outputs": [
    {
     "name": "stdout",
     "output_type": "stream",
     "text": [
      "Min number is :  2\n",
      "Max number is :  5\n"
     ]
    }
   ],
   "source": [
    "import numpy as np\n",
    "\n",
    "var = np.array([5,2,3,4])\n",
    "\n",
    "print (\"Min number is : \", np.min(var))\n",
    "print (\"Max number is : \", np.max(var))"
   ]
  },
  {
   "cell_type": "code",
   "execution_count": 10,
   "id": "f6c4e1e3",
   "metadata": {},
   "outputs": [
    {
     "name": "stdout",
     "output_type": "stream",
     "text": [
      "Min number is :  1 and the INDEX of the min number is :  3\n",
      "Max number is :  5 and the INDEX of the min number is :  0\n"
     ]
    }
   ],
   "source": [
    "import numpy as np\n",
    "\n",
    "var = np.array([5,2,3,1])\n",
    "\n",
    "print (\"Min number is : \", np.min(var),\"and the INDEX of the min number is : \", np.argmin(var))\n",
    "print (\"Max number is : \", np.max(var),\"and the INDEX of the min number is : \", np.argmax(var))"
   ]
  },
  {
   "cell_type": "code",
   "execution_count": 33,
   "id": "72f0f588",
   "metadata": {},
   "outputs": [
    {
     "name": "stdout",
     "output_type": "stream",
     "text": [
      "[[ 5 21 31  1]\n",
      " [11 21 14 51]]\n",
      "[ 5 21 14  1]          Min number (axis 0 means column wise)\n",
      "[ 1 11]                Max number (axis 1 means row wise)\n"
     ]
    }
   ],
   "source": [
    "import numpy as np\n",
    "\n",
    "var = np.array([[5,21,31,1],[11,21,14,51]])\n",
    "print (var)\n",
    "\n",
    "# axis 0 means column wise              and         axis 1 row wise\n",
    "\n",
    "print (np.min(var,axis = 0),\"         Min number (axis 0 means column wise)\")\n",
    "print (np.min(var,axis = 1),\"               Max number (axis 1 means row wise)\")"
   ]
  },
  {
   "cell_type": "code",
   "execution_count": 37,
   "id": "84628af5",
   "metadata": {},
   "outputs": [
    {
     "name": "stdout",
     "output_type": "stream",
     "text": [
      "[4.         2.         3.         1.73205081]\n"
     ]
    }
   ],
   "source": [
    "import numpy as np\n",
    "\n",
    "var = np.array([16,4,9,3])\n",
    "\n",
    "print (np.sqrt(var))"
   ]
  },
  {
   "cell_type": "code",
   "execution_count": 39,
   "id": "caab1031",
   "metadata": {},
   "outputs": [
    {
     "name": "stdout",
     "output_type": "stream",
     "text": [
      "[0.84147098 0.85090352 0.89399666]\n"
     ]
    }
   ],
   "source": [
    "import numpy as np\n",
    "\n",
    "var = np.array([1, 45,90])\n",
    "\n",
    "print (np.sin(var))"
   ]
  },
  {
   "cell_type": "code",
   "execution_count": 41,
   "id": "cfe6e631",
   "metadata": {
    "scrolled": true
   },
   "outputs": [
    {
     "name": "stdout",
     "output_type": "stream",
     "text": [
      "[ 0.54030231  0.52532199 -0.44807362]\n"
     ]
    }
   ],
   "source": [
    "import numpy as np\n",
    "\n",
    "var = np.array([1,45,90])\n",
    "\n",
    "print (np.cos(var))"
   ]
  },
  {
   "cell_type": "code",
   "execution_count": 44,
   "id": "736957cc",
   "metadata": {},
   "outputs": [
    {
     "name": "stdout",
     "output_type": "stream",
     "text": [
      "Cumulative sum :  [ 1  3  6 10]\n"
     ]
    }
   ],
   "source": [
    "import numpy as np\n",
    "\n",
    "var = np.array([1,2,3,4])\n",
    "\n",
    "print (\"Cumulative sum : \", np.cumsum(var))"
   ]
  },
  {
   "cell_type": "code",
   "execution_count": 3,
   "id": "cc56a46c",
   "metadata": {},
   "outputs": [
    {
     "name": "stdout",
     "output_type": "stream",
     "text": [
      "[[2 4]\n",
      " [3 5]]\n",
      "\n",
      "[2.5 4.5]\n",
      "[3. 4.]\n"
     ]
    }
   ],
   "source": [
    "import numpy as np\n",
    "a = np.array([[2, 4], [3, 5]]) \n",
    "print (a)\n",
    "print ()\n",
    "b=np.mean(a,axis=0)  \n",
    "c=np.mean(a,axis=1)  \n",
    "print(b)  \n",
    "print(c)    "
   ]
  },
  {
   "cell_type": "code",
   "execution_count": null,
   "id": "f8b4d524",
   "metadata": {},
   "outputs": [],
   "source": []
  }
 ],
 "metadata": {
  "kernelspec": {
   "display_name": "Python 3 (ipykernel)",
   "language": "python",
   "name": "python3"
  },
  "language_info": {
   "codemirror_mode": {
    "name": "ipython",
    "version": 3
   },
   "file_extension": ".py",
   "mimetype": "text/x-python",
   "name": "python",
   "nbconvert_exporter": "python",
   "pygments_lexer": "ipython3",
   "version": "3.9.7"
  }
 },
 "nbformat": 4,
 "nbformat_minor": 5
}
