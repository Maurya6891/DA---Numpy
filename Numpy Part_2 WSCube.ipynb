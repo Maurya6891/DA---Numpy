{
 "cells": [
  {
   "cell_type": "code",
   "execution_count": 2,
   "id": "bc6b9c37",
   "metadata": {},
   "outputs": [
    {
     "name": "stdout",
     "output_type": "stream",
     "text": [
      "Data type :  int32\n"
     ]
    }
   ],
   "source": [
    "import numpy as np\n",
    "\n",
    "x = np.array([1,2,3,4,5])\n",
    "\n",
    "print(\"Data type : \", x.dtype)"
   ]
  },
  {
   "cell_type": "code",
   "execution_count": 3,
   "id": "b10b3436",
   "metadata": {},
   "outputs": [
    {
     "name": "stdout",
     "output_type": "stream",
     "text": [
      "Data type :  int64\n"
     ]
    }
   ],
   "source": [
    "import numpy as np\n",
    "\n",
    "x = np.array([1,2,3,4,54646464646464646])\n",
    "\n",
    "print(\"Data type : \", x.dtype)"
   ]
  },
  {
   "cell_type": "code",
   "execution_count": 4,
   "id": "f29d685b",
   "metadata": {},
   "outputs": [
    {
     "name": "stdout",
     "output_type": "stream",
     "text": [
      "Data type :  float64\n"
     ]
    }
   ],
   "source": [
    "import numpy as np\n",
    "\n",
    "x = np.array([1.1, 2.5, 3.8, 4.44, 5466])\n",
    "\n",
    "print(\"Data type : \", x.dtype)"
   ]
  },
  {
   "cell_type": "code",
   "execution_count": 5,
   "id": "ee4b2cfe",
   "metadata": {},
   "outputs": [
    {
     "name": "stdout",
     "output_type": "stream",
     "text": [
      "Data type :  float64\n"
     ]
    }
   ],
   "source": [
    "import numpy as np\n",
    "\n",
    "x = np.array([1.1, 2.5, 3.8, 4.44, 5.44454546464645681244444466])\n",
    "\n",
    "print(\"Data type : \", x.dtype)"
   ]
  },
  {
   "cell_type": "code",
   "execution_count": 6,
   "id": "c68007fc",
   "metadata": {},
   "outputs": [
    {
     "name": "stdout",
     "output_type": "stream",
     "text": [
      "Data type :  <U1\n"
     ]
    }
   ],
   "source": [
    "import numpy as np\n",
    "\n",
    "x = np.array([\"a\",\"b\",\"c\"])\n",
    "\n",
    "print(\"Data type : \", x.dtype)"
   ]
  },
  {
   "cell_type": "code",
   "execution_count": 8,
   "id": "16818b64",
   "metadata": {},
   "outputs": [
    {
     "name": "stdout",
     "output_type": "stream",
     "text": [
      "Data type :  <U11\n"
     ]
    }
   ],
   "source": [
    "import numpy as np\n",
    "\n",
    "x = np.array([\"a\",\"b\",\"c\",1,2,3])\n",
    "\n",
    "print(\"Data type : \", x.dtype)"
   ]
  },
  {
   "cell_type": "code",
   "execution_count": 9,
   "id": "0360a41f",
   "metadata": {},
   "outputs": [
    {
     "name": "stdout",
     "output_type": "stream",
     "text": [
      "Data type :  int32\n"
     ]
    }
   ],
   "source": [
    "import numpy as np\n",
    "\n",
    "x = np.array([1,2,3,4,5])\n",
    "\n",
    "print(\"Data type : \", x.dtype)"
   ]
  },
  {
   "cell_type": "code",
   "execution_count": 10,
   "id": "8ea3a67a",
   "metadata": {},
   "outputs": [
    {
     "name": "stdout",
     "output_type": "stream",
     "text": [
      "Data type :  int8\n"
     ]
    }
   ],
   "source": [
    "import numpy as np\n",
    "\n",
    "x = np.array([1,2,3,4,5], dtype = np.int8)\n",
    "\n",
    "print(\"Data type : \", x.dtype)"
   ]
  },
  {
   "cell_type": "code",
   "execution_count": 11,
   "id": "00af3566",
   "metadata": {},
   "outputs": [
    {
     "name": "stdout",
     "output_type": "stream",
     "text": [
      "Data type :  float32\n",
      "[1. 2. 3. 4. 5.]\n"
     ]
    }
   ],
   "source": [
    "import numpy as np\n",
    "\n",
    "x = np.array([1,2,3,4,5], dtype = \"f\")\n",
    "\n",
    "print(\"Data type : \", x.dtype)\n",
    "print(x)"
   ]
  },
  {
   "cell_type": "code",
   "execution_count": 15,
   "id": "b606cdcf",
   "metadata": {},
   "outputs": [
    {
     "name": "stdout",
     "output_type": "stream",
     "text": [
      "[1 2 3 4 5]\n",
      "Data type :  int32\n",
      "[1. 2. 3. 4. 5.]\n",
      "Data type :  float32\n",
      "[1 2 3 4 5]\n",
      "Data type :  int32\n"
     ]
    }
   ],
   "source": [
    "import numpy as np\n",
    "\n",
    "x = np.array([1,2,3,4,5])\n",
    "\n",
    "new  = np.float32(x)\n",
    "\n",
    "new_again = np.int_(x)\n",
    "\n",
    "print(x)\n",
    "print(\"Data type : \", x.dtype)\n",
    "print(new)\n",
    "print(\"Data type : \", new.dtype)\n",
    "print(new_again)\n",
    "print(\"Data type : \", new_again.dtype)"
   ]
  },
  {
   "cell_type": "code",
   "execution_count": 19,
   "id": "f974c6bf",
   "metadata": {},
   "outputs": [
    {
     "name": "stdout",
     "output_type": "stream",
     "text": [
      "[1 2 3 4 5]\n",
      "[1. 2. 3. 4. 5.]\n"
     ]
    }
   ],
   "source": [
    "import numpy as np\n",
    "\n",
    "x = np.array([1,2,3,4,5])\n",
    "\n",
    "x_new = x.astype(\"f\")\n",
    "\n",
    "print(x)\n",
    "print(x_new)"
   ]
  },
  {
   "cell_type": "markdown",
   "id": "55063c7c",
   "metadata": {},
   "source": [
    "# shape"
   ]
  },
  {
   "cell_type": "code",
   "execution_count": 3,
   "id": "e5ff0bd6",
   "metadata": {},
   "outputs": [
    {
     "name": "stdout",
     "output_type": "stream",
     "text": [
      "[list([1, 2, 3, 4]) list([5, 6, 7])]\n",
      "\n",
      "(2,)\n"
     ]
    },
    {
     "name": "stderr",
     "output_type": "stream",
     "text": [
      "C:\\Users\\pc\\AppData\\Local\\Temp/ipykernel_1548/1119235366.py:3: VisibleDeprecationWarning: Creating an ndarray from ragged nested sequences (which is a list-or-tuple of lists-or-tuples-or ndarrays with different lengths or shapes) is deprecated. If you meant to do this, you must specify 'dtype=object' when creating the ndarray.\n",
      "  x= np.array([[1,2,3,4],[5,6,7]])\n"
     ]
    }
   ],
   "source": [
    "import numpy as np\n",
    "\n",
    "x= np.array([[1,2,3,4],[5,6,7]])\n",
    "print(x)\n",
    "print() # For 1 line gap\n",
    "print(x.shape)"
   ]
  },
  {
   "cell_type": "code",
   "execution_count": 24,
   "id": "37d7a00a",
   "metadata": {},
   "outputs": [
    {
     "name": "stdout",
     "output_type": "stream",
     "text": [
      "[[[[1 2 3 4]]]]\n",
      "\n",
      "4\n",
      "\n",
      "(1, 1, 1, 4)\n"
     ]
    }
   ],
   "source": [
    "import numpy as np\n",
    "\n",
    "x= np.array([1,2,3,4],ndmin = 4)\n",
    "print(x)\n",
    "print() # For 1 line gap\n",
    "print(x.ndim)\n",
    "print() # For 1 line gap\n",
    "print(x.shape)"
   ]
  },
  {
   "cell_type": "code",
   "execution_count": 1,
   "id": "92456b13",
   "metadata": {},
   "outputs": [
    {
     "name": "stdout",
     "output_type": "stream",
     "text": [
      "[1 2 3 4 5 6]\n",
      "1 Dimension array\n",
      "\n",
      "[[1 2]\n",
      " [3 4]\n",
      " [5 6]]\n",
      "2 Dimension array\n"
     ]
    }
   ],
   "source": [
    "import numpy as np\n",
    "\n",
    "x= np.array([1,2,3,4,5,6])\n",
    "\n",
    "print(x)\n",
    "print(x.ndim, \"Dimension array\")\n",
    "print() # For 1 line gap\n",
    "\n",
    "y = x.reshape(3,2)\n",
    "print(y)\n",
    "print(y.ndim,\"Dimension array\")"
   ]
  },
  {
   "cell_type": "code",
   "execution_count": 5,
   "id": "5d7e4757",
   "metadata": {},
   "outputs": [
    {
     "ename": "ValueError",
     "evalue": "cannot reshape array of size 6 into shape (3,3)",
     "output_type": "error",
     "traceback": [
      "\u001b[1;31m---------------------------------------------------------------------------\u001b[0m",
      "\u001b[1;31mValueError\u001b[0m                                Traceback (most recent call last)",
      "\u001b[1;32m~\\AppData\\Local\\Temp/ipykernel_1548/868404666.py\u001b[0m in \u001b[0;36m<module>\u001b[1;34m\u001b[0m\n\u001b[0;32m      3\u001b[0m \u001b[0mx\u001b[0m\u001b[1;33m=\u001b[0m \u001b[0mnp\u001b[0m\u001b[1;33m.\u001b[0m\u001b[0marray\u001b[0m\u001b[1;33m(\u001b[0m\u001b[1;33m[\u001b[0m\u001b[1;36m1\u001b[0m\u001b[1;33m,\u001b[0m\u001b[1;36m2\u001b[0m\u001b[1;33m,\u001b[0m\u001b[1;36m3\u001b[0m\u001b[1;33m,\u001b[0m\u001b[1;36m4\u001b[0m\u001b[1;33m,\u001b[0m\u001b[1;36m5\u001b[0m\u001b[1;33m,\u001b[0m\u001b[1;36m6\u001b[0m\u001b[1;33m]\u001b[0m\u001b[1;33m)\u001b[0m\u001b[1;33m\u001b[0m\u001b[1;33m\u001b[0m\u001b[0m\n\u001b[0;32m      4\u001b[0m \u001b[1;33m\u001b[0m\u001b[0m\n\u001b[1;32m----> 5\u001b[1;33m \u001b[0my\u001b[0m \u001b[1;33m=\u001b[0m \u001b[0mx\u001b[0m\u001b[1;33m.\u001b[0m\u001b[0mreshape\u001b[0m\u001b[1;33m(\u001b[0m\u001b[1;36m3\u001b[0m\u001b[1;33m,\u001b[0m\u001b[1;36m3\u001b[0m\u001b[1;33m)\u001b[0m\u001b[1;33m\u001b[0m\u001b[1;33m\u001b[0m\u001b[0m\n\u001b[0m\u001b[0;32m      6\u001b[0m \u001b[0mprint\u001b[0m\u001b[1;33m(\u001b[0m\u001b[0my\u001b[0m\u001b[1;33m)\u001b[0m\u001b[1;33m\u001b[0m\u001b[1;33m\u001b[0m\u001b[0m\n\u001b[0;32m      7\u001b[0m \u001b[0mprint\u001b[0m\u001b[1;33m(\u001b[0m\u001b[0my\u001b[0m\u001b[1;33m.\u001b[0m\u001b[0mndim\u001b[0m\u001b[1;33m,\u001b[0m\u001b[1;34m\"Dimension array\"\u001b[0m\u001b[1;33m)\u001b[0m\u001b[1;33m\u001b[0m\u001b[1;33m\u001b[0m\u001b[0m\n",
      "\u001b[1;31mValueError\u001b[0m: cannot reshape array of size 6 into shape (3,3)"
     ]
    }
   ],
   "source": [
    "import numpy as np\n",
    "\n",
    "x= np.array([1,2,3,4,5,6])\n",
    "\n",
    "y = x.reshape(3,3)\n",
    "print(y)\n",
    "print(y.ndim,\"Dimension array\")"
   ]
  },
  {
   "cell_type": "code",
   "execution_count": 11,
   "id": "d7656a79",
   "metadata": {},
   "outputs": [
    {
     "name": "stdout",
     "output_type": "stream",
     "text": [
      "[[1 2 3]\n",
      " [4 5 6]\n",
      " [7 8 9]]\n",
      "\n",
      "2 Dimension array\n"
     ]
    }
   ],
   "source": [
    "import numpy as np\n",
    "\n",
    "x= np.array([1,2,3,4,5,6,7,8,9])\n",
    "\n",
    "y = x.reshape(3,3)\n",
    "print(y)\n",
    "print() # For 1 line gap\n",
    "print(y.ndim,\"Dimension array\")"
   ]
  },
  {
   "cell_type": "code",
   "execution_count": 17,
   "id": "86137ce4",
   "metadata": {},
   "outputs": [
    {
     "name": "stdout",
     "output_type": "stream",
     "text": [
      "[[[ 1  2]\n",
      "  [ 3  4]\n",
      "  [ 5  6]\n",
      "  [ 7  8]\n",
      "  [ 9 10]\n",
      "  [11 12]]]\n",
      "\n",
      "3 Dimension array\n"
     ]
    }
   ],
   "source": [
    "import numpy as np\n",
    "\n",
    "x= np.array([1,2,3,4,5,6,7,8,9,10,11,12])\n",
    "\n",
    "y = x.reshape(1,6,2)\n",
    "print(y)\n",
    "print() # For 1 line gap\n",
    "print(y.ndim,\"Dimension array\")"
   ]
  },
  {
   "cell_type": "code",
   "execution_count": 19,
   "id": "c5b6d634",
   "metadata": {},
   "outputs": [
    {
     "name": "stdout",
     "output_type": "stream",
     "text": [
      "[[[ 1  2]\n",
      "  [ 3  4]]\n",
      "\n",
      " [[ 5  6]\n",
      "  [ 7  8]]\n",
      "\n",
      " [[ 9 10]\n",
      "  [11 12]]]\n",
      "\n",
      "3 Dimension array\n"
     ]
    }
   ],
   "source": [
    "import numpy as np\n",
    "\n",
    "x= np.array([1,2,3,4,5,6,7,8,9,10,11,12])\n",
    "\n",
    "y = x.reshape(3,2,2)\n",
    "print(y)\n",
    "print() # For 1 line gap\n",
    "print(y.ndim,\"Dimension array\")"
   ]
  },
  {
   "cell_type": "code",
   "execution_count": 22,
   "id": "23b2afa6",
   "metadata": {},
   "outputs": [
    {
     "name": "stdout",
     "output_type": "stream",
     "text": [
      "[ 1  2  3  4  5  6  7  8  9 10 11 12]\n",
      "1 Dimension array\n",
      "\n",
      "[[[ 1  2]\n",
      "  [ 3  4]\n",
      "  [ 5  6]]\n",
      "\n",
      " [[ 7  8]\n",
      "  [ 9 10]\n",
      "  [11 12]]]\n",
      "3 Dimension array\n",
      "\n",
      "[ 1  2  3  4  5  6  7  8  9 10 11 12]\n",
      "1 Dimension array\n"
     ]
    }
   ],
   "source": [
    "import numpy as np\n",
    "\n",
    "x= np.array([1,2,3,4,5,6,7,8,9,10,11,12])\n",
    "\n",
    "print(x)\n",
    "print(x.ndim, \"Dimension array\")\n",
    "print() # For 1 line gap\n",
    "\n",
    "y = x.reshape(2,3,2)\n",
    "print(y)\n",
    "print(y.ndim,\"Dimension array\")\n",
    "print() # For 1 line gap\n",
    "\n",
    "z = x.reshape(-1)\n",
    "print(z)\n",
    "print(z.ndim,\"Dimension array\")"
   ]
  },
  {
   "cell_type": "code",
   "execution_count": null,
   "id": "50b37047",
   "metadata": {},
   "outputs": [],
   "source": []
  }
 ],
 "metadata": {
  "kernelspec": {
   "display_name": "Python 3 (ipykernel)",
   "language": "python",
   "name": "python3"
  },
  "language_info": {
   "codemirror_mode": {
    "name": "ipython",
    "version": 3
   },
   "file_extension": ".py",
   "mimetype": "text/x-python",
   "name": "python",
   "nbconvert_exporter": "python",
   "pygments_lexer": "ipython3",
   "version": "3.9.7"
  }
 },
 "nbformat": 4,
 "nbformat_minor": 5
}
